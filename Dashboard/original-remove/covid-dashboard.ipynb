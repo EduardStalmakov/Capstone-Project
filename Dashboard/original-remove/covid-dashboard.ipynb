{
 "cells": [
  {
   "cell_type": "markdown",
   "metadata": {},
   "source": [
    "from https://github.com/raaga500/YTshared/blob/master/V5_CovidDashboard-World.ipynb\n",
    "linked to https://www.youtube.com/watch?v=Y5-Rmdcd6MQ - Create Interactive Dashboard in Python from scratch | Vizualization | DASH | PLOTLY"
   ]
  },
  {
   "cell_type": "markdown",
   "metadata": {},
   "source": [
    "dependencies"
   ]
  },
  {
   "cell_type": "code",
   "execution_count": 8,
   "metadata": {},
   "outputs": [
    {
     "name": "stdout",
     "output_type": "stream",
     "text": [
      "Collecting dash_bootstrap_componentsNote: you may need to restart the kernel to use updated packages.\n",
      "\n",
      "  Using cached dash_bootstrap_components-1.2.1-py3-none-any.whl (216 kB)\n",
      "Requirement already satisfied: dash>=2.0.0 in c:\\users\\vanessa gleason\\anaconda3\\envs\\landodatalake\\lib\\site-packages (from dash_bootstrap_components) (2.6.2)\n",
      "Requirement already satisfied: dash-core-components==2.0.0 in c:\\users\\vanessa gleason\\anaconda3\\envs\\landodatalake\\lib\\site-packages (from dash>=2.0.0->dash_bootstrap_components) (2.0.0)\n",
      "Requirement already satisfied: Flask>=1.0.4 in c:\\users\\vanessa gleason\\anaconda3\\envs\\landodatalake\\lib\\site-packages (from dash>=2.0.0->dash_bootstrap_components) (2.2.2)\n",
      "Requirement already satisfied: plotly>=5.0.0 in c:\\users\\vanessa gleason\\anaconda3\\envs\\landodatalake\\lib\\site-packages (from dash>=2.0.0->dash_bootstrap_components) (5.10.0)\n",
      "Requirement already satisfied: flask-compress in c:\\users\\vanessa gleason\\anaconda3\\envs\\landodatalake\\lib\\site-packages (from dash>=2.0.0->dash_bootstrap_components) (1.13)\n",
      "Requirement already satisfied: dash-html-components==2.0.0 in c:\\users\\vanessa gleason\\anaconda3\\envs\\landodatalake\\lib\\site-packages (from dash>=2.0.0->dash_bootstrap_components) (2.0.0)\n",
      "Requirement already satisfied: dash-table==5.0.0 in c:\\users\\vanessa gleason\\anaconda3\\envs\\landodatalake\\lib\\site-packages (from dash>=2.0.0->dash_bootstrap_components) (5.0.0)\n",
      "Requirement already satisfied: Werkzeug>=2.2.2 in c:\\users\\vanessa gleason\\anaconda3\\envs\\landodatalake\\lib\\site-packages (from Flask>=1.0.4->dash>=2.0.0->dash_bootstrap_components) (2.2.2)\n",
      "Requirement already satisfied: importlib-metadata>=3.6.0 in c:\\users\\vanessa gleason\\anaconda3\\envs\\landodatalake\\lib\\site-packages (from Flask>=1.0.4->dash>=2.0.0->dash_bootstrap_components) (4.12.0)\n",
      "Requirement already satisfied: Jinja2>=3.0 in c:\\users\\vanessa gleason\\anaconda3\\envs\\landodatalake\\lib\\site-packages (from Flask>=1.0.4->dash>=2.0.0->dash_bootstrap_components) (3.1.2)\n",
      "Requirement already satisfied: itsdangerous>=2.0 in c:\\users\\vanessa gleason\\anaconda3\\envs\\landodatalake\\lib\\site-packages (from Flask>=1.0.4->dash>=2.0.0->dash_bootstrap_components) (2.1.2)\n",
      "Requirement already satisfied: click>=8.0 in c:\\users\\vanessa gleason\\anaconda3\\envs\\landodatalake\\lib\\site-packages (from Flask>=1.0.4->dash>=2.0.0->dash_bootstrap_components) (8.1.3)\n",
      "Requirement already satisfied: tenacity>=6.2.0 in c:\\users\\vanessa gleason\\anaconda3\\envs\\landodatalake\\lib\\site-packages (from plotly>=5.0.0->dash>=2.0.0->dash_bootstrap_components) (8.1.0)\n",
      "Requirement already satisfied: brotli in c:\\users\\vanessa gleason\\anaconda3\\envs\\landodatalake\\lib\\site-packages (from flask-compress->dash>=2.0.0->dash_bootstrap_components) (1.0.9)\n",
      "Requirement already satisfied: colorama in c:\\users\\vanessa gleason\\anaconda3\\envs\\landodatalake\\lib\\site-packages (from click>=8.0->Flask>=1.0.4->dash>=2.0.0->dash_bootstrap_components) (0.4.5)\n",
      "Requirement already satisfied: zipp>=0.5 in c:\\users\\vanessa gleason\\anaconda3\\envs\\landodatalake\\lib\\site-packages (from importlib-metadata>=3.6.0->Flask>=1.0.4->dash>=2.0.0->dash_bootstrap_components) (3.8.1)\n",
      "Requirement already satisfied: MarkupSafe>=2.0 in c:\\users\\vanessa gleason\\anaconda3\\envs\\landodatalake\\lib\\site-packages (from Jinja2>=3.0->Flask>=1.0.4->dash>=2.0.0->dash_bootstrap_components) (2.1.1)\n",
      "Installing collected packages: dash_bootstrap_components\n",
      "Successfully installed dash_bootstrap_components-1.2.1\n"
     ]
    }
   ],
   "source": [
    "%pip install dash_bootstrap_components"
   ]
  },
  {
   "cell_type": "code",
   "execution_count": 9,
   "metadata": {},
   "outputs": [],
   "source": [
    "import pandas as pd\n",
    "#pd.set_option('max_rows',20)\n",
    "import plotly.express as px\n",
    "import plotly.io as pio\n",
    "pio.renderers.default = \"browser\""
   ]
  },
  {
   "cell_type": "code",
   "execution_count": 10,
   "metadata": {},
   "outputs": [],
   "source": [
    "import dash\n",
    "from dash.dependencies import Input, Output\n",
    "from dash import dcc, html\n",
    "import dash_bootstrap_components as dbc"
   ]
  },
  {
   "cell_type": "markdown",
   "metadata": {},
   "source": [
    "get data"
   ]
  },
  {
   "cell_type": "code",
   "execution_count": 11,
   "metadata": {},
   "outputs": [],
   "source": [
    "CONF_URL = 'https://raw.githubusercontent.com/CSSEGISandData/COVID-19/master/csse_covid_19_data/csse_covid_19_time_series/time_series_covid19_confirmed_global.csv'\n",
    "DEAD_URL = 'https://raw.githubusercontent.com/CSSEGISandData/COVID-19/master/csse_covid_19_data/csse_covid_19_time_series/time_series_covid19_deaths_global.csv'\n",
    "RECV_URL = 'https://raw.githubusercontent.com/CSSEGISandData/COVID-19/master/csse_covid_19_data/csse_covid_19_time_series/time_series_covid19_recovered_global.csv'"
   ]
  },
  {
   "cell_type": "code",
   "execution_count": 12,
   "metadata": {},
   "outputs": [],
   "source": [
    "covid_conf_ts = pd.read_csv(CONF_URL)\n",
    "covid_dead_ts = pd.read_csv(DEAD_URL)\n",
    "covid_recv_ts = pd.read_csv(RECV_URL)"
   ]
  },
  {
   "cell_type": "markdown",
   "metadata": {},
   "source": [
    "Data Processing"
   ]
  },
  {
   "cell_type": "code",
   "execution_count": 13,
   "metadata": {},
   "outputs": [],
   "source": [
    "#get data in cleaned time series format for country\n",
    "def process_data(data,cntry='US',window=3):\n",
    "    conf_ts = data\n",
    "    conf_ts_cntry = conf_ts[conf_ts['Country/Region']==cntry]\n",
    "    final_dataset = conf_ts_cntry.T[4:].sum(axis='columns').diff().rolling(window=window).mean()[40:]\n",
    "    df = pd.DataFrame(final_dataset,columns=['Total'])\n",
    "    return df"
   ]
  },
  {
   "cell_type": "code",
   "execution_count": 14,
   "metadata": {},
   "outputs": [
    {
     "name": "stdout",
     "output_type": "stream",
     "text": [
      "Overall Confirmed: 615555415\n",
      "Overall Dead: 6538310\n",
      "Overall Recovered: 0\n"
     ]
    }
   ],
   "source": [
    "#get overall wordlwide total for confirmed, recovered and dead cases\n",
    "def get_overall_total(df):\n",
    "    return df.iloc[:,-1].sum()\n",
    "\n",
    "conf_overall_total = get_overall_total(covid_conf_ts)\n",
    "dead_overall_total = get_overall_total(covid_dead_ts)\n",
    "recv_overall_total = get_overall_total(covid_recv_ts)\n",
    "print('Overall Confirmed:',conf_overall_total)\n",
    "print('Overall Dead:',dead_overall_total)\n",
    "print('Overall Recovered:',recv_overall_total)"
   ]
  },
  {
   "cell_type": "code",
   "execution_count": 15,
   "metadata": {},
   "outputs": [
    {
     "name": "stdout",
     "output_type": "stream",
     "text": [
      "US Confirmed: 96116204\n",
      "US Dead: 1056789\n",
      "US Recovered: 0\n"
     ]
    }
   ],
   "source": [
    "#get total for confirmed, recovered and dead for country \n",
    "def get_cntry_total(df,cntry='US'):\n",
    "    return df[df['Country/Region']==cntry].iloc[:,-1].sum()\n",
    "\n",
    "cntry = 'US'\n",
    "conf_cntry_total = get_cntry_total(covid_conf_ts,cntry)\n",
    "dead_cntry_total = get_cntry_total(covid_dead_ts,cntry)\n",
    "recv_cntry_total = get_cntry_total(covid_recv_ts,cntry)\n",
    "print(f'{cntry} Confirmed:',conf_cntry_total)\n",
    "print(f'{cntry} Dead:',dead_cntry_total)\n",
    "print(f'{cntry} Recovered:',recv_cntry_total)"
   ]
  },
  {
   "cell_type": "markdown",
   "metadata": {},
   "source": [
    "DASH APP"
   ]
  },
  {
   "cell_type": "code",
   "execution_count": 16,
   "metadata": {},
   "outputs": [],
   "source": [
    "external_stylesheets = [dbc.themes.BOOTSTRAP]"
   ]
  },
  {
   "cell_type": "code",
   "execution_count": 17,
   "metadata": {},
   "outputs": [],
   "source": [
    "app = dash.Dash(__name__, external_stylesheets=external_stylesheets)\n",
    "app.title = 'Covid-19 Dashboard'"
   ]
  },
  {
   "cell_type": "markdown",
   "metadata": {},
   "source": [
    "Page Header"
   ]
  },
  {
   "cell_type": "code",
   "execution_count": 18,
   "metadata": {},
   "outputs": [],
   "source": [
    "colors = {\n",
    "    'background': '#111111',\n",
    "    'bodyColor':'#F2DFCE',\n",
    "    'text': '#7FDBFF'\n",
    "}\n",
    "def get_page_heading_style():\n",
    "    return {'backgroundColor': colors['background']}\n",
    "\n",
    "\n",
    "def get_page_heading_title():\n",
    "    return html.H1(children='COVID-19 Dashboard',\n",
    "                                        style={\n",
    "                                        'textAlign': 'center',\n",
    "                                        'color': colors['text']\n",
    "                                    })\n",
    "\n",
    "def get_page_heading_subtitle():\n",
    "    return html.Div(children='Visualize Covid-19 data generated from sources all over the world.',\n",
    "                                         style={\n",
    "                                             'textAlign':'center',\n",
    "                                             'color':colors['text']\n",
    "                                         })\n",
    "\n",
    "def generate_page_header():\n",
    "    main_header =  dbc.Row(\n",
    "                            [\n",
    "                                dbc.Col(get_page_heading_title(),md=12)\n",
    "                            ],\n",
    "                            align=\"center\",\n",
    "                            style=get_page_heading_style()\n",
    "                        )\n",
    "    subtitle_header = dbc.Row(\n",
    "                            [\n",
    "                                dbc.Col(get_page_heading_subtitle(),md=12)\n",
    "                            ],\n",
    "                            align=\"center\",\n",
    "                            style=get_page_heading_style()\n",
    "                        )\n",
    "    header = (main_header,subtitle_header)\n",
    "    return header"
   ]
  },
  {
   "cell_type": "markdown",
   "metadata": {},
   "source": [
    "Select Country dropdown"
   ]
  },
  {
   "cell_type": "code",
   "execution_count": 19,
   "metadata": {},
   "outputs": [],
   "source": [
    "def get_country_list():\n",
    "    return covid_conf_ts['Country/Region'].unique()\n",
    "\n",
    "def create_dropdown_list(cntry_list):\n",
    "    dropdown_list = []\n",
    "    for cntry in sorted(cntry_list):\n",
    "        tmp_dict = {'label':cntry,'value':cntry}\n",
    "        dropdown_list.append(tmp_dict)\n",
    "    return dropdown_list\n",
    "\n",
    "def get_country_dropdown(id):\n",
    "    return html.Div([\n",
    "                        html.Label('Select Country'),\n",
    "                        dcc.Dropdown(id='my-id'+str(id),\n",
    "                            options=create_dropdown_list(get_country_list()),\n",
    "                            value='US'\n",
    "                        ),\n",
    "                        html.Div(id='my-div'+str(id))\n",
    "                    ])"
   ]
  },
  {
   "cell_type": "markdown",
   "metadata": {},
   "source": [
    "Graph Container for DASH"
   ]
  },
  {
   "cell_type": "code",
   "execution_count": 27,
   "metadata": {},
   "outputs": [
    {
     "name": "stderr",
     "output_type": "stream",
     "text": [
      "<>:2: SyntaxWarning:\n",
      "\n",
      "'str' object is not callable; perhaps you missed a comma?\n",
      "\n",
      "<>:2: SyntaxWarning:\n",
      "\n",
      "'str' object is not callable; perhaps you missed a comma?\n",
      "\n",
      "C:\\Users\\Vanessa Gleason\\AppData\\Local\\Temp\\ipykernel_48696\\2078109319.py:2: SyntaxWarning:\n",
      "\n",
      "'str' object is not callable; perhaps you missed a comma?\n",
      "\n"
     ]
    }
   ],
   "source": [
    "def graph1():\n",
    "    return dcc.Graph(id='graph1',figure=fig_world_trend('US'))"
   ]
  },
  {
   "cell_type": "markdown",
   "metadata": {},
   "source": [
    "Generate CARDS for overall numbers"
   ]
  },
  {
   "cell_type": "code",
   "execution_count": 21,
   "metadata": {},
   "outputs": [],
   "source": [
    "def generate_card_content(card_header,card_value,overall_value):\n",
    "    card_head_style = {'textAlign':'center','fontSize':'150%'}\n",
    "    card_body_style = {'textAlign':'center','fontSize':'200%'}\n",
    "    card_header = dbc.CardHeader(card_header,style=card_head_style)\n",
    "    card_body = dbc.CardBody(\n",
    "        [\n",
    "            html.H5(f\"{int(card_value):,}\", className=\"card-title\",style=card_body_style),\n",
    "            html.P(\n",
    "                \"Worlwide: {:,}\".format(overall_value),\n",
    "                className=\"card-text\",style={'textAlign':'center'}\n",
    "            ),\n",
    "        ]\n",
    "    )\n",
    "    card = [card_header,card_body]\n",
    "    return card"
   ]
  },
  {
   "cell_type": "code",
   "execution_count": 22,
   "metadata": {},
   "outputs": [],
   "source": [
    "def generate_cards(cntry='US'):\n",
    "    conf_cntry_total = get_cntry_total(covid_conf_ts,cntry)\n",
    "    dead_cntry_total = get_cntry_total(covid_dead_ts,cntry)\n",
    "    recv_cntry_total = get_cntry_total(covid_recv_ts,cntry)\n",
    "    cards = html.Div(\n",
    "        [\n",
    "            dbc.Row(\n",
    "                [\n",
    "                    dbc.Col(dbc.Card(generate_card_content(\"Recovered\",recv_cntry_total,recv_overall_total), color=\"success\", inverse=True),md=dict(size=2,offset=3)),\n",
    "                    dbc.Col(dbc.Card(generate_card_content(\"Confirmed\",conf_cntry_total,conf_overall_total), color=\"warning\", inverse=True),md=dict(size=2)),\n",
    "                    dbc.Col(dbc.Card(generate_card_content(\"Dead\",dead_cntry_total,dead_overall_total),color=\"dark\", inverse=True),md=dict(size=2)),\n",
    "                ],\n",
    "                className=\"mb-4\",\n",
    "            ),\n",
    "        ],id='card1'\n",
    "    )\n",
    "    return cards"
   ]
  },
  {
   "cell_type": "markdown",
   "metadata": {},
   "source": [
    "DASH Slider for Moving Average Window"
   ]
  },
  {
   "cell_type": "code",
   "execution_count": 23,
   "metadata": {},
   "outputs": [],
   "source": [
    "def get_slider():\n",
    "    return html.Div([  \n",
    "                        dcc.Slider(\n",
    "                            id='my-slider',\n",
    "                            min=1,\n",
    "                            max=15,\n",
    "                            step=None,\n",
    "                            marks={\n",
    "                                1: '1',\n",
    "                                3: '3',\n",
    "                                5: '5',\n",
    "                                7: '1-Week',\n",
    "                                14: 'Fortnight'\n",
    "                            },\n",
    "                            value=3,\n",
    "                        ),\n",
    "                        html.Div([html.Label('Select Moving Average Window')],id='my-div'+str(id),style={'textAlign':'center'})\n",
    "                    ])"
   ]
  },
  {
   "cell_type": "markdown",
   "metadata": {},
   "source": [
    "Generate APP layout"
   ]
  },
  {
   "cell_type": "code",
   "execution_count": 28,
   "metadata": {},
   "outputs": [],
   "source": [
    "def generate_layout():\n",
    "    page_header = generate_page_header()\n",
    "    layout = dbc.Container(\n",
    "        [\n",
    "            page_header[0],\n",
    "            page_header[1],\n",
    "            html.Hr(),\n",
    "            generate_cards(),\n",
    "            html.Hr(),\n",
    "            dbc.Row(\n",
    "                [\n",
    "                    dbc.Col(get_country_dropdown(id=1),md=dict(size=4,offset=4))                    \n",
    "                ]\n",
    "            \n",
    "            ),\n",
    "            # dbc.Row(\n",
    "            #     [                \n",
    "                    \n",
    "            #         dbc.Col(graph1(),md=dict(size=6,offset=3))\n",
    "        \n",
    "            #     ],\n",
    "            #     align=\"center\",\n",
    "\n",
    "            # ),\n",
    "            dbc.Row(\n",
    "                [\n",
    "                    dbc.Col(get_slider(),md=dict(size=4,offset=4))                    \n",
    "                ]\n",
    "            \n",
    "            ),\n",
    "        ],fluid=True,style={'backgroundColor': colors['bodyColor']}\n",
    "    )\n",
    "    return layout"
   ]
  },
  {
   "cell_type": "code",
   "execution_count": 29,
   "metadata": {},
   "outputs": [],
   "source": [
    "app.layout = generate_layout()"
   ]
  },
  {
   "cell_type": "markdown",
   "metadata": {},
   "source": [
    "Assign DASH Callbacks"
   ]
  },
  {
   "cell_type": "code",
   "execution_count": 30,
   "metadata": {},
   "outputs": [],
   "source": [
    "@app.callback(\n",
    "    [Output(component_id='graph1',component_property='figure'), #line chart\n",
    "    Output(component_id='card1',component_property='children')], #overall card numbers\n",
    "    [Input(component_id='my-id1',component_property='value'), #dropdown\n",
    "     Input(component_id='my-slider',component_property='value')] #slider\n",
    ")\n",
    "def update_output_div(input_value1,input_value2):\n",
    "    return fig_world_trend(input_value1,input_value2),generate_cards(input_value1)"
   ]
  },
  {
   "cell_type": "markdown",
   "metadata": {},
   "source": [
    "RUN the app server"
   ]
  },
  {
   "cell_type": "code",
   "execution_count": 31,
   "metadata": {},
   "outputs": [
    {
     "name": "stdout",
     "output_type": "stream",
     "text": [
      "Dash is running on http://0.0.0.0:8050/\n",
      "\n",
      " * Serving Flask app '__main__'\n",
      " * Debug mode: off\n"
     ]
    },
    {
     "name": "stderr",
     "output_type": "stream",
     "text": [
      "WARNING: This is a development server. Do not use it in a production deployment. Use a production WSGI server instead.\n",
      " * Running on all addresses (0.0.0.0)\n",
      " * Running on http://127.0.0.1:8050\n",
      " * Running on http://192.168.1.25:8050\n",
      "Press CTRL+C to quit\n",
      "192.168.1.25 - - [27/Sep/2022 19:59:22] \"GET / HTTP/1.1\" 200 -\n",
      "192.168.1.25 - - [27/Sep/2022 19:59:22] \"GET /_dash-component-suites/dash/deps/react-dom@16.v2_6_2m1664320022.14.0.min.js HTTP/1.1\" 200 -\n",
      "192.168.1.25 - - [27/Sep/2022 19:59:22] \"GET /_dash-component-suites/dash_bootstrap_components/_components/dash_bootstrap_components.v1_2_1m1664325890.min.js HTTP/1.1\" 200 -\n",
      "192.168.1.25 - - [27/Sep/2022 19:59:22] \"GET /_dash-component-suites/dash/deps/react@16.v2_6_2m1664320022.14.0.min.js HTTP/1.1\" 200 -\n",
      "192.168.1.25 - - [27/Sep/2022 19:59:22] \"GET /_dash-component-suites/dash/dash-renderer/build/dash_renderer.v2_6_2m1664320020.min.js HTTP/1.1\" 200 -\n",
      "192.168.1.25 - - [27/Sep/2022 19:59:22] \"GET /_dash-component-suites/dash/deps/polyfill@7.v2_6_2m1664320022.12.1.min.js HTTP/1.1\" 200 -\n",
      "192.168.1.25 - - [27/Sep/2022 19:59:22] \"GET /_dash-component-suites/dash/dcc/dash_core_components.v2_6_2m1664320021.js HTTP/1.1\" 200 -\n",
      "192.168.1.25 - - [27/Sep/2022 19:59:22] \"GET /_dash-component-suites/dash/deps/prop-types@15.v2_6_2m1664320022.8.1.min.js HTTP/1.1\" 200 -\n",
      "192.168.1.25 - - [27/Sep/2022 19:59:22] \"GET /_dash-component-suites/dash/dcc/dash_core_components-shared.v2_6_2m1664320021.js HTTP/1.1\" 200 -\n",
      "192.168.1.25 - - [27/Sep/2022 19:59:22] \"GET /_dash-component-suites/dash/dash_table/bundle.v5_1_6m1664320021.js HTTP/1.1\" 200 -\n",
      "192.168.1.25 - - [27/Sep/2022 19:59:22] \"GET /_dash-component-suites/dash/html/dash_html_components.v2_0_5m1664320022.min.js HTTP/1.1\" 200 -\n",
      "192.168.1.25 - - [27/Sep/2022 19:59:22] \"GET /_dash-layout HTTP/1.1\" 200 -\n",
      "192.168.1.25 - - [27/Sep/2022 19:59:22] \"GET /_dash-dependencies HTTP/1.1\" 200 -\n",
      "192.168.1.25 - - [27/Sep/2022 19:59:22] \"GET /_favicon.ico?v=2.6.2 HTTP/1.1\" 200 -\n",
      "192.168.1.25 - - [27/Sep/2022 19:59:22] \"GET /_dash-component-suites/dash/dcc/async-dropdown.js HTTP/1.1\" 200 -\n",
      "192.168.1.25 - - [27/Sep/2022 19:59:22] \"GET /_dash-component-suites/dash/dcc/async-slider.js HTTP/1.1\" 200 -\n"
     ]
    }
   ],
   "source": [
    "app.run_server(host= '0.0.0.0',debug=False)"
   ]
  }
 ],
 "metadata": {
  "kernelspec": {
   "display_name": "Python 3.9.13 ('landodatalake')",
   "language": "python",
   "name": "python3"
  },
  "language_info": {
   "codemirror_mode": {
    "name": "ipython",
    "version": 3
   },
   "file_extension": ".py",
   "mimetype": "text/x-python",
   "name": "python",
   "nbconvert_exporter": "python",
   "pygments_lexer": "ipython3",
   "version": "3.9.13"
  },
  "orig_nbformat": 4,
  "vscode": {
   "interpreter": {
    "hash": "56e6fcf109282a6470838c3e64bd1981759ef09b01459bd55857e55bbc31f922"
   }
  }
 },
 "nbformat": 4,
 "nbformat_minor": 2
}
